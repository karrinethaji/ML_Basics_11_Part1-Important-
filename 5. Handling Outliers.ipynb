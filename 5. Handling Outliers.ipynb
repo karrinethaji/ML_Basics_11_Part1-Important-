{
 "cells": [
  {
   "cell_type": "markdown",
   "id": "f8d6ac72",
   "metadata": {},
   "source": [
    "## 5 number summary and boxplot"
   ]
  },
  {
   "cell_type": "code",
   "execution_count": 1,
   "id": "ee2ea76d",
   "metadata": {},
   "outputs": [],
   "source": [
    "# Minimum, maximun, first quantile, median, third quantile"
   ]
  },
  {
   "cell_type": "code",
   "execution_count": 2,
   "id": "9d6b4ad0",
   "metadata": {},
   "outputs": [],
   "source": [
    "import numpy as np"
   ]
  },
  {
   "cell_type": "code",
   "execution_count": 3,
   "id": "60f96dcd",
   "metadata": {},
   "outputs": [
    {
     "data": {
      "text/plain": [
       "array([-29. ,   0. ,   4. ,   8.5,  26. ])"
      ]
     },
     "execution_count": 3,
     "metadata": {},
     "output_type": "execute_result"
    }
   ],
   "source": [
    "lst_marks=np.array([-29,-26,-2,-1,1,2,3,4,5,5,8,9,10,23,26])\n",
    "\n",
    "np.quantile(lst_marks,[0,0.25,0.5,0.75,1])"
   ]
  },
  {
   "cell_type": "code",
   "execution_count": 4,
   "id": "8b1d2b2b",
   "metadata": {},
   "outputs": [],
   "source": [
    "minimum, first_quantile, median, third_quantile,maximum= np.quantile(lst_marks,[0,0.25,0.5,0.75,1])"
   ]
  },
  {
   "cell_type": "code",
   "execution_count": 5,
   "id": "911152d9",
   "metadata": {},
   "outputs": [
    {
     "data": {
      "text/plain": [
       "-29.0"
      ]
     },
     "execution_count": 5,
     "metadata": {},
     "output_type": "execute_result"
    }
   ],
   "source": [
    "minimum"
   ]
  },
  {
   "cell_type": "code",
   "execution_count": 6,
   "id": "581e49f1",
   "metadata": {},
   "outputs": [
    {
     "data": {
      "text/plain": [
       "26.0"
      ]
     },
     "execution_count": 6,
     "metadata": {},
     "output_type": "execute_result"
    }
   ],
   "source": [
    "maximum"
   ]
  },
  {
   "cell_type": "code",
   "execution_count": 7,
   "id": "89f96eb0",
   "metadata": {},
   "outputs": [
    {
     "data": {
      "text/plain": [
       "0.0"
      ]
     },
     "execution_count": 7,
     "metadata": {},
     "output_type": "execute_result"
    }
   ],
   "source": [
    "first_quantile"
   ]
  },
  {
   "cell_type": "code",
   "execution_count": 8,
   "id": "06711e16",
   "metadata": {},
   "outputs": [],
   "source": [
    "# Creating the lower and upper bounds\n",
    "\n",
    "IQR= third_quantile - first_quantile\n",
    "\n",
    "lower_bound= first_quantile -(1.5*IQR)\n",
    "upper_bound= third_quantile + (1.5*IQR)"
   ]
  },
  {
   "cell_type": "code",
   "execution_count": 9,
   "id": "5e601aa7",
   "metadata": {},
   "outputs": [
    {
     "data": {
      "text/plain": [
       "(-12.75, 21.25)"
      ]
     },
     "execution_count": 9,
     "metadata": {},
     "output_type": "execute_result"
    }
   ],
   "source": [
    "lower_bound, upper_bound"
   ]
  },
  {
   "cell_type": "code",
   "execution_count": 10,
   "id": "38608c1c",
   "metadata": {},
   "outputs": [
    {
     "data": {
      "text/plain": [
       "array([-29, -26,  23,  26])"
      ]
     },
     "execution_count": 10,
     "metadata": {},
     "output_type": "execute_result"
    }
   ],
   "source": [
    "# Outlier data\n",
    "\n",
    "lst_marks[(lst_marks<lower_bound) | (lst_marks>upper_bound)]"
   ]
  },
  {
   "cell_type": "code",
   "execution_count": 11,
   "id": "2abd16f2",
   "metadata": {},
   "outputs": [
    {
     "data": {
      "text/plain": [
       "array([-2, -1,  1,  2,  3,  4,  5,  5,  8,  9, 10])"
      ]
     },
     "execution_count": 11,
     "metadata": {},
     "output_type": "execute_result"
    }
   ],
   "source": [
    "# Data after removing the outliers\n",
    "\n",
    "lst_marks[(lst_marks>lower_bound) & (lst_marks<upper_bound)]"
   ]
  },
  {
   "cell_type": "code",
   "execution_count": 12,
   "id": "4019ea62",
   "metadata": {},
   "outputs": [
    {
     "data": {
      "text/plain": [
       "<Axes: >"
      ]
     },
     "execution_count": 12,
     "metadata": {},
     "output_type": "execute_result"
    },
    {
     "data": {
      "image/png": "[encoded data removed]",
      "text/plain": [
       "<Figure size 640x480 with 1 Axes>"
      ]
     },
     "metadata": {},
     "output_type": "display_data"
    }
   ],
   "source": [
    "# Draw an boxplot for the original data and observe the 5 number summary parameters\n",
    "\n",
    "import seaborn as sns\n",
    "\n",
    "sns.boxplot(data=lst_marks)"
   ]
  },
  {
   "cell_type": "code",
   "execution_count": 13,
   "id": "62deb225",
   "metadata": {},
   "outputs": [
    {
     "data": {
      "text/plain": [
       "{'whiskers': [<matplotlib.lines.Line2D at 0x27fac759a50>,\n",
       "  <matplotlib.lines.Line2D at 0x27fac759cf0>],\n",
       " 'caps': [<matplotlib.lines.Line2D at 0x27fac759f90>,\n",
       "  <matplotlib.lines.Line2D at 0x27fac75a230>],\n",
       " 'boxes': [<matplotlib.lines.Line2D at 0x27fac759750>],\n",
       " 'medians': [<matplotlib.lines.Line2D at 0x27fac75a4d0>],\n",
       " 'fliers': [<matplotlib.lines.Line2D at 0x27fac75a770>],\n",
       " 'means': []}"
      ]
     },
     "execution_count": 13,
     "metadata": {},
     "output_type": "execute_result"
    },
    {
     "data": {
      "image/png": "[encoded data removed]",
      "text/plain": [
       "<Figure size 640x480 with 1 Axes>"
      ]
     },
     "metadata": {},
     "output_type": "display_data"
    }
   ],
   "source": [
    "# plotting the boxplot using matplotlib\n",
    "\n",
    "import matplotlib.pyplot as plt\n",
    "\n",
    "plt.boxplot(lst_marks)"
   ]
  }
 ],
 "metadata": {
  "kernelspec": {
   "display_name": "Python 3 (ipykernel)",
   "language": "python",
   "name": "python3"
  },
  "language_info": {
   "codemirror_mode": {
    "name": "ipython",
    "version": 3
   },
   "file_extension": ".py",
   "mimetype": "text/x-python",
   "name": "python",
   "nbconvert_exporter": "python",
   "pygments_lexer": "ipython3",
   "version": "3.10.13"
  }
 },
 "nbformat": 4,
 "nbformat_minor": 5
}
